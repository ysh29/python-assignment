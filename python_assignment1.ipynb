{
  "nbformat": 4,
  "nbformat_minor": 0,
  "metadata": {
    "colab": {
      "provenance": [],
      "authorship_tag": "ABX9TyMCBmv5/ZGoiCq4AmoplbSX",
      "include_colab_link": true
    },
    "kernelspec": {
      "name": "python3",
      "display_name": "Python 3"
    },
    "language_info": {
      "name": "python"
    }
  },
  "cells": [
    {
      "cell_type": "markdown",
      "metadata": {
        "id": "view-in-github",
        "colab_type": "text"
      },
      "source": [
        "<a href=\"https://colab.research.google.com/github/ysh29/python-assignment/blob/main/python_assignment1.ipynb\" target=\"_parent\"><img src=\"https://colab.research.google.com/assets/colab-badge.svg\" alt=\"Open In Colab\"/></a>"
      ]
    },
    {
      "cell_type": "markdown",
      "source": [],
      "metadata": {
        "id": "nNq4_0B1SByr"
      }
    },
    {
      "cell_type": "markdown",
      "source": [
        "# **Q1. L in a list is defined as L = [11,12,13,14]**"
      ],
      "metadata": {
        "id": "J9tMXDnBSEYT"
      }
    },
    {
      "cell_type": "markdown",
      "source": [
        "## **(i) WAP to add 50 and 60 to L**\n"
      ],
      "metadata": {
        "id": "qfQ985cqwXqy"
      }
    },
    {
      "cell_type": "code",
      "source": [
        "L = [11, 12, 13, 14]\n",
        "L.append(50)\n",
        "L.append(60)\n",
        "print(\"After adding 50 and 60:\", L)\n"
      ],
      "metadata": {
        "id": "XmQ_N6TxR5hT",
        "colab": {
          "base_uri": "https://localhost:8080/"
        },
        "outputId": "5e7257bd-b06d-4d2c-b789-bab7d5b6649f"
      },
      "execution_count": null,
      "outputs": [
        {
          "output_type": "stream",
          "name": "stdout",
          "text": [
            "After adding 50 and 60: [11, 12, 13, 14, 50, 60]\n"
          ]
        }
      ]
    },
    {
      "cell_type": "markdown",
      "source": [
        "## **(ii) WAP to remove 11 and 13 from L**\n"
      ],
      "metadata": {
        "id": "ewb8Bqgmw4yY"
      }
    },
    {
      "cell_type": "code",
      "source": [
        "L = [11, 12, 13, 14]\n",
        "L.remove(11)\n",
        "L.remove(13)\n",
        "print(\"After removing 11 and 13:\", L)\n"
      ],
      "metadata": {
        "colab": {
          "base_uri": "https://localhost:8080/"
        },
        "id": "WF-k1rthwuIp",
        "outputId": "82f195a1-0de3-48fa-f665-18428dc35bc3"
      },
      "execution_count": null,
      "outputs": [
        {
          "output_type": "stream",
          "name": "stdout",
          "text": [
            "After removing 11 and 13: [12, 14]\n"
          ]
        }
      ]
    },
    {
      "cell_type": "markdown",
      "source": [
        "## **(iii) WAP to sort L in ascending order**"
      ],
      "metadata": {
        "id": "C9ge0r2fxWjJ"
      }
    },
    {
      "cell_type": "code",
      "source": [
        "L = [11, 12, 13, 14]\n",
        "L.sort()\n",
        "print(\"Sorted in ascending order:\", L)\n"
      ],
      "metadata": {
        "colab": {
          "base_uri": "https://localhost:8080/"
        },
        "id": "RGbhClU4xeEA",
        "outputId": "cf1e43f4-ab7e-4c40-d2e4-6121880770ce"
      },
      "execution_count": null,
      "outputs": [
        {
          "output_type": "stream",
          "name": "stdout",
          "text": [
            "Sorted in ascending order: [11, 12, 13, 14]\n"
          ]
        }
      ]
    },
    {
      "cell_type": "markdown",
      "source": [
        "## **(iv) WAP to sort L in descending order**"
      ],
      "metadata": {
        "id": "0hRotwrmxths"
      }
    },
    {
      "cell_type": "code",
      "source": [
        "L = [11, 12, 13, 14]\n",
        "L.sort(reverse=True)\n",
        "print(\"Sorted in descending order:\", L)\n"
      ],
      "metadata": {
        "colab": {
          "base_uri": "https://localhost:8080/"
        },
        "id": "QT2SOX5bx09p",
        "outputId": "f4db0909-af07-4d55-b687-ac07c156486e"
      },
      "execution_count": null,
      "outputs": [
        {
          "output_type": "stream",
          "name": "stdout",
          "text": [
            "Sorted in descending order: [14, 13, 12, 11]\n"
          ]
        }
      ]
    },
    {
      "cell_type": "markdown",
      "source": [
        "## **(v) WAP to search for 13 in L**"
      ],
      "metadata": {
        "id": "f4iib8_HyDpz"
      }
    },
    {
      "cell_type": "code",
      "source": [
        "L = [11, 12, 13, 14]\n",
        "if 13 in L:\n",
        "    print(\"13 is present in the list.\")\n",
        "else:\n",
        "    print(\"13 is not present in the list.\")\n"
      ],
      "metadata": {
        "colab": {
          "base_uri": "https://localhost:8080/"
        },
        "id": "nJrsi4vRykK6",
        "outputId": "fd08735a-0719-4cf7-c2ab-70ed720f1d6e"
      },
      "execution_count": null,
      "outputs": [
        {
          "output_type": "stream",
          "name": "stdout",
          "text": [
            "13 is present in the list.\n"
          ]
        }
      ]
    },
    {
      "cell_type": "markdown",
      "source": [
        "## **(vi) WAP to count the number of elements present in L**"
      ],
      "metadata": {
        "id": "Y23GNWjAy0od"
      }
    },
    {
      "cell_type": "code",
      "source": [
        "L = [11, 12, 13, 14]\n",
        "print(\"Number of elements in L:\", len(L))\n"
      ],
      "metadata": {
        "colab": {
          "base_uri": "https://localhost:8080/"
        },
        "id": "tcPdrriOy8d8",
        "outputId": "8bda3fe1-818c-4524-c384-fa615561e26a"
      },
      "execution_count": null,
      "outputs": [
        {
          "output_type": "stream",
          "name": "stdout",
          "text": [
            "Number of elements in L: 4\n"
          ]
        }
      ]
    },
    {
      "cell_type": "markdown",
      "source": [
        "## **(vii) WAP to sum all the elements in L**"
      ],
      "metadata": {
        "id": "LhYywYOHzaKh"
      }
    },
    {
      "cell_type": "code",
      "source": [
        "L = [11, 12, 13, 14]\n",
        "print(\"Sum of all elements in L:\", sum(L))\n"
      ],
      "metadata": {
        "colab": {
          "base_uri": "https://localhost:8080/"
        },
        "id": "Ua0USwAnzdrU",
        "outputId": "8202c126-11e0-44eb-c704-fd9193c1e562"
      },
      "execution_count": null,
      "outputs": [
        {
          "output_type": "stream",
          "name": "stdout",
          "text": [
            "Sum of all elements in L: 50\n"
          ]
        }
      ]
    },
    {
      "cell_type": "markdown",
      "source": [
        "## **(viii) WAP to sum all ODD numbers in L**"
      ],
      "metadata": {
        "id": "-hgseTJDztTH"
      }
    },
    {
      "cell_type": "code",
      "source": [
        "L = [11, 12, 13, 14]\n",
        "odd_sum = sum(num for num in L if num % 2 != 0)\n",
        "print(\"Sum of all ODD numbers:\", odd_sum)\n"
      ],
      "metadata": {
        "colab": {
          "base_uri": "https://localhost:8080/"
        },
        "id": "0RYWPv5fzxlv",
        "outputId": "f95d8fdd-58a7-4046-dd56-2b1f2edc10c2"
      },
      "execution_count": null,
      "outputs": [
        {
          "output_type": "stream",
          "name": "stdout",
          "text": [
            "Sum of all ODD numbers: 24\n"
          ]
        }
      ]
    },
    {
      "cell_type": "markdown",
      "source": [],
      "metadata": {
        "id": "nr3TIL1fwVNm"
      }
    },
    {
      "cell_type": "markdown",
      "source": [
        "## **(ix) WAP to sum all EVEN numbers in L**"
      ],
      "metadata": {
        "id": "-lh5tUGgOEWN"
      }
    },
    {
      "cell_type": "code",
      "source": [
        "L = [11, 12, 13, 14]\n",
        "even_sum = sum(num for num in L if num % 2 == 0)\n",
        "print(\"Sum of all EVEN numbers:\", even_sum)\n"
      ],
      "metadata": {
        "colab": {
          "base_uri": "https://localhost:8080/"
        },
        "id": "0hcWsTxCO0gD",
        "outputId": "429dbffb-54e7-4ec2-9458-348aeba8ef00"
      },
      "execution_count": null,
      "outputs": [
        {
          "output_type": "stream",
          "name": "stdout",
          "text": [
            "Sum of all EVEN numbers: 26\n"
          ]
        }
      ]
    },
    {
      "cell_type": "markdown",
      "source": [
        "## **(x) WAP to sum all PRIME numbers in L**\n"
      ],
      "metadata": {
        "id": "Ndi7P_uePAGA"
      }
    },
    {
      "cell_type": "code",
      "source": [
        "L = [11, 12, 13, 14]\n",
        "def is_prime(n):\n",
        "    if n < 2:\n",
        "        return False\n",
        "    for i in range(2, int(n**0.5)+1):\n",
        "        if n % i == 0:\n",
        "            return False\n",
        "    return True\n",
        "\n",
        "prime_sum = sum(num for num in L if is_prime(num))\n",
        "print(\"Sum of all PRIME numbers:\", prime_sum)\n"
      ],
      "metadata": {
        "colab": {
          "base_uri": "https://localhost:8080/"
        },
        "id": "Ue2eatuJPX5X",
        "outputId": "9a3ac6b8-3796-470f-d67d-3d83bc0ed9c2"
      },
      "execution_count": null,
      "outputs": [
        {
          "output_type": "stream",
          "name": "stdout",
          "text": [
            "Sum of all PRIME numbers: 24\n"
          ]
        }
      ]
    },
    {
      "cell_type": "markdown",
      "source": [
        "## **(xi) WAP to clear all the elements in L**"
      ],
      "metadata": {
        "id": "yaxO8B-hPidr"
      }
    },
    {
      "cell_type": "code",
      "source": [
        "L = [11, 12, 13, 14]\n",
        "L.clear()\n",
        "print(\"List after clearing:\", L)\n",
        "\n"
      ],
      "metadata": {
        "colab": {
          "base_uri": "https://localhost:8080/"
        },
        "id": "nnAuCEOOPrAj",
        "outputId": "f4c41671-c70e-4a2c-c0c4-c0dcc16931b3"
      },
      "execution_count": null,
      "outputs": [
        {
          "output_type": "stream",
          "name": "stdout",
          "text": [
            "List after clearing: []\n"
          ]
        }
      ]
    },
    {
      "cell_type": "markdown",
      "source": [
        "## **(xii) WAP to delete L**"
      ],
      "metadata": {
        "id": "ALYoM8TFP3zx"
      }
    },
    {
      "cell_type": "code",
      "source": [
        "L = [11, 12, 13, 14]\n",
        "del L\n",
        " print(L)  # Uncommenting this will give an error since L is deleted\n"
      ],
      "metadata": {
        "id": "UyReWCTwQI_C"
      },
      "execution_count": null,
      "outputs": []
    },
    {
      "cell_type": "markdown",
      "source": [
        "# **Q2. D is the directory defined as D = {1: 5.6, 2: 7.8, 3: 6.6, 4: 8.7, 5: 7.7}**\n"
      ],
      "metadata": {
        "id": "WAcBKY1JQxb6"
      }
    },
    {
      "cell_type": "markdown",
      "source": [
        "## **(i) WAP to add new entry in D; key = 8 and value = 8.8**"
      ],
      "metadata": {
        "id": "7fPue5xCSoqW"
      }
    },
    {
      "cell_type": "code",
      "source": [
        "D = {1: 5.6, 2: 7.8, 3: 6.6, 4: 8.7, 5: 7.7}\n",
        "D[8] = 8.8\n",
        "print(\"After adding key=8, value=8.8:\", D)\n",
        "\n"
      ],
      "metadata": {
        "colab": {
          "base_uri": "https://localhost:8080/"
        },
        "id": "4Kuam6dURzmB",
        "outputId": "5c4f19dc-17ac-4469-bdf3-9f0be108d66c"
      },
      "execution_count": null,
      "outputs": [
        {
          "output_type": "stream",
          "name": "stdout",
          "text": [
            "After adding key=8, value=8.8: {1: 5.6, 2: 7.8, 3: 6.6, 4: 8.7, 5: 7.7, 8: 8.8}\n"
          ]
        }
      ]
    },
    {
      "cell_type": "markdown",
      "source": [
        "## **(ii) WAP to remove key = 2**"
      ],
      "metadata": {
        "id": "MwMOW7RIS5pj"
      }
    },
    {
      "cell_type": "code",
      "source": [
        "D = {1: 5.6, 2: 7.8, 3: 6.6, 4: 8.7, 5: 7.7}\n",
        "D.pop(2)\n",
        "print(\"After removing key=2:\", D)\n"
      ],
      "metadata": {
        "colab": {
          "base_uri": "https://localhost:8080/"
        },
        "id": "4xIaNvcoTC_y",
        "outputId": "3cdcd602-ded0-4599-ed94-97dc22180b05"
      },
      "execution_count": null,
      "outputs": [
        {
          "output_type": "stream",
          "name": "stdout",
          "text": [
            "After removing key=2: {1: 5.6, 3: 6.6, 4: 8.7, 5: 7.7}\n"
          ]
        }
      ]
    },
    {
      "cell_type": "markdown",
      "source": [
        "## **(iii) WAP to check whether key 6 is present in D**"
      ],
      "metadata": {
        "id": "LgAroByxTgI6"
      }
    },
    {
      "cell_type": "code",
      "source": [
        "D = {1: 5.6, 2: 7.8, 3: 6.6, 4: 8.7, 5: 7.7}\n",
        "if 6 in D:\n",
        "    print(\"Key 6 is present in D.\")\n",
        "else:\n",
        "    print(\"Key 6 is not present in D.\")\n"
      ],
      "metadata": {
        "colab": {
          "base_uri": "https://localhost:8080/"
        },
        "id": "xsIoiCIuUG92",
        "outputId": "af8b7545-934a-4fea-b965-2097f483d003"
      },
      "execution_count": null,
      "outputs": [
        {
          "output_type": "stream",
          "name": "stdout",
          "text": [
            "Key 6 is not present in D.\n"
          ]
        }
      ]
    },
    {
      "cell_type": "markdown",
      "source": [
        "## **(iv) WAP to count the number of elements present in D**"
      ],
      "metadata": {
        "id": "Akl4OITbUYIO"
      }
    },
    {
      "cell_type": "code",
      "source": [
        "D = {1: 5.6, 2: 7.8, 3: 6.6, 4: 8.7, 5: 7.7}\n",
        "print(\"Number of elements in D:\", len(D))\n"
      ],
      "metadata": {
        "colab": {
          "base_uri": "https://localhost:8080/"
        },
        "id": "kY-hyyi4Ueaz",
        "outputId": "166fe42a-e9db-43a8-987c-a6ee55cd496c"
      },
      "execution_count": null,
      "outputs": [
        {
          "output_type": "stream",
          "name": "stdout",
          "text": [
            "Number of elements in D: 5\n"
          ]
        }
      ]
    },
    {
      "cell_type": "markdown",
      "source": [
        "## **(v) WAP to add all the values present in D**"
      ],
      "metadata": {
        "id": "zZz4ub3kUpNH"
      }
    },
    {
      "cell_type": "code",
      "source": [
        "D = {1: 5.6, 2: 7.8, 3: 6.6, 4: 8.7, 5: 7.7}\n",
        "print(\"Sum of all values in D:\", sum(D.values()))\n"
      ],
      "metadata": {
        "colab": {
          "base_uri": "https://localhost:8080/"
        },
        "id": "4kvOhg6xUyWn",
        "outputId": "0d692aad-bcd7-41a7-b0c7-3b15b4109979"
      },
      "execution_count": null,
      "outputs": [
        {
          "output_type": "stream",
          "name": "stdout",
          "text": [
            "Sum of all values in D: 36.4\n"
          ]
        }
      ]
    },
    {
      "cell_type": "markdown",
      "source": [
        "## **(vi) WAP to update the value of 3 to 7.1**"
      ],
      "metadata": {
        "id": "P85UKZMsU8LS"
      }
    },
    {
      "cell_type": "code",
      "source": [
        "D = {1: 5.6, 2: 7.8, 3: 6.6, 4: 8.7, 5: 7.7}\n",
        "D[3] = 7.1\n",
        "print(\"After updating key=3 to 7.1:\", D)\n"
      ],
      "metadata": {
        "colab": {
          "base_uri": "https://localhost:8080/"
        },
        "id": "yQSsniveVH_P",
        "outputId": "ae60cd43-a4fe-482a-896c-fcf9b29faa92"
      },
      "execution_count": null,
      "outputs": [
        {
          "output_type": "stream",
          "name": "stdout",
          "text": [
            "After updating key=3 to 7.1: {1: 5.6, 2: 7.8, 3: 7.1, 4: 8.7, 5: 7.7}\n"
          ]
        }
      ]
    },
    {
      "cell_type": "markdown",
      "source": [
        "## **(vii) WAP to clear the dictionary**"
      ],
      "metadata": {
        "id": "dY7Cg9VcVULh"
      }
    },
    {
      "cell_type": "code",
      "source": [
        "D = {1: 5.6, 2: 7.8, 3: 6.6, 4: 8.7, 5: 7.7}\n",
        "D.clear()\n",
        "print(\"Dictionary after clearing:\", D)\n"
      ],
      "metadata": {
        "id": "hm8snlljVaZZ"
      },
      "execution_count": null,
      "outputs": []
    },
    {
      "cell_type": "markdown",
      "source": [
        "# **Q3. S1 is a set defined as S1 = {10, 20, 30, 40, 50, 60}.S2 = {40, 50, 60, 70, 80, 90}**\n"
      ],
      "metadata": {
        "id": "08JXMm_SVhIH"
      }
    },
    {
      "cell_type": "markdown",
      "source": [
        "## **(i) WAP to add 55 and 66 in Set S1**"
      ],
      "metadata": {
        "id": "Bjl_3pL9W1fU"
      }
    },
    {
      "cell_type": "code",
      "source": [
        "S1 = {10, 20, 30, 40, 50, 60}\n",
        "S2 = {40, 50, 60, 70, 80, 90}\n",
        "S1.add(55)\n",
        "S1.add(66)\n",
        "print(\"After adding 55 and 66:\", S1)\n"
      ],
      "metadata": {
        "id": "OQmt5_F0XhXg"
      },
      "execution_count": null,
      "outputs": []
    },
    {
      "cell_type": "markdown",
      "source": [],
      "metadata": {
        "id": "ShsOskn9U8G-"
      }
    },
    {
      "cell_type": "markdown",
      "source": [
        "## **(ii) WAP to remove 10 and 30 from Set S1**"
      ],
      "metadata": {
        "id": "-5xjcmc8Xtj4"
      }
    },
    {
      "cell_type": "code",
      "source": [
        "S1 = {10, 20, 30, 40, 50, 60}\n",
        "S2 = {40, 50, 60, 70, 80, 90}\n",
        "S1.remove(10)\n",
        "S1.remove(30)\n",
        "print(\"After removing 10 and 30:\", S1)\n"
      ],
      "metadata": {
        "id": "gHwKyCgfX7Vr"
      },
      "execution_count": null,
      "outputs": []
    },
    {
      "cell_type": "markdown",
      "source": [
        "## **(iii) WAP to check whether 40 is present in S1**"
      ],
      "metadata": {
        "id": "q2kznxGIYCnB"
      }
    },
    {
      "cell_type": "code",
      "source": [
        "S1 = {10, 20, 30, 40, 50, 60}\n",
        "S2 = {40, 50, 60, 70, 80, 90}\n",
        "\n",
        "if 40 in S1:\n",
        "    print(\"40 is present in S1.\")\n",
        "else:\n",
        "    print(\"40 is not present in S1.\")\n"
      ],
      "metadata": {
        "id": "W6I8RrYbYKbh"
      },
      "execution_count": null,
      "outputs": []
    },
    {
      "cell_type": "markdown",
      "source": [
        "\n",
        "## **(iv) WAP to find the union between S1 and S2**"
      ],
      "metadata": {
        "id": "LeTgjEuHYlxS"
      }
    },
    {
      "cell_type": "code",
      "source": [
        "S1 = {10, 20, 30, 40, 50, 60}\n",
        "S2 = {40, 50, 60, 70, 80, 90}\n",
        "\n",
        "union_set = S1.union(S2)\n",
        "print(\"Union of S1 and S2:\", union_set)\n"
      ],
      "metadata": {
        "id": "UKqg6rQQYtWe"
      },
      "execution_count": null,
      "outputs": []
    },
    {
      "cell_type": "markdown",
      "source": [
        "## **(v) WAP to find the intersection between S1 and S2**"
      ],
      "metadata": {
        "id": "e_WbiLFDY8vn"
      }
    },
    {
      "cell_type": "code",
      "source": [
        "S1 = {10, 20, 30, 40, 50, 60}\n",
        "S2 = {40, 50, 60, 70, 80, 90}\n",
        "\n",
        "intersection_set = S1.intersection(S2)\n",
        "print(\"Intersection of S1 and S2:\", intersection_set)\n"
      ],
      "metadata": {
        "colab": {
          "base_uri": "https://localhost:8080/"
        },
        "id": "DHH0Jwg1ZEHR",
        "outputId": "c6fe6e30-b9b9-4bee-866b-84577c2071b8"
      },
      "execution_count": null,
      "outputs": [
        {
          "output_type": "stream",
          "name": "stdout",
          "text": [
            "Intersection of S1 and S2: {40, 50, 60}\n"
          ]
        }
      ]
    },
    {
      "cell_type": "markdown",
      "source": [
        "## **(vi) WAP to find S1 - S2**"
      ],
      "metadata": {
        "id": "5ThocB0QZRnv"
      }
    },
    {
      "cell_type": "code",
      "source": [
        "S1 = {10, 20, 30, 40, 50, 60}\n",
        "S2 = {40, 50, 60, 70, 80, 90}\n",
        "\n",
        "difference_set = S1.difference(S2)\n",
        "print(\"S1 - S2:\", difference_set)\n"
      ],
      "metadata": {
        "colab": {
          "base_uri": "https://localhost:8080/"
        },
        "id": "w3-VIXN9ZYmc",
        "outputId": "245d7d5b-355a-419b-bc08-f6b938c110e8"
      },
      "execution_count": null,
      "outputs": [
        {
          "output_type": "stream",
          "name": "stdout",
          "text": [
            "S1 - S2: {10, 20, 30}\n"
          ]
        }
      ]
    },
    {
      "cell_type": "markdown",
      "source": [
        "# **Q4. Write The Following Program**"
      ],
      "metadata": {
        "id": "Za27pB0OZoNp"
      }
    },
    {
      "cell_type": "markdown",
      "source": [
        "## **(i) WAP to print 100 random strings whose length is between 6 and 8**"
      ],
      "metadata": {
        "id": "a19tDxUKbRKk"
      }
    },
    {
      "cell_type": "code",
      "source": [
        "import random\n",
        "import string\n",
        "\n",
        "for _ in range(100):\n",
        "    length = random.randint(6, 8)\n",
        "    rand_str = ''.join(random.choices(string.ascii_letters + string.digits, k=length))\n",
        "    print(rand_str)\n"
      ],
      "metadata": {
        "colab": {
          "base_uri": "https://localhost:8080/"
        },
        "id": "5PI1BTMjbMk2",
        "outputId": "1d7f7734-5189-4729-9d7c-7518a9143e8d"
      },
      "execution_count": null,
      "outputs": [
        {
          "output_type": "stream",
          "name": "stdout",
          "text": [
            "t8oFJv\n",
            "KjV4394T\n",
            "msq3YlF\n",
            "iK0Ip7zk\n",
            "DGph7fz\n",
            "eau539dz\n",
            "ZMhMaOw\n",
            "KFk5km8\n",
            "DZK6SmQU\n",
            "8pUJbz\n",
            "iX59S4\n",
            "fS6imHIe\n",
            "HDZIJrv\n",
            "R8QLod\n",
            "Y2xO0Y\n",
            "hRcz8T\n",
            "YFreuN\n",
            "F7j4bd\n",
            "RCVOLK90\n",
            "a76Poi5\n",
            "p5Oysdk\n",
            "GxQibiPx\n",
            "IvfF6V\n",
            "IPD9q1n4\n",
            "1nM3jZ\n",
            "IPUyZtnl\n",
            "bku0q7\n",
            "d6bWWSiG\n",
            "1LndFSo\n",
            "8TkU4jP\n",
            "mwH4JGb\n",
            "68Lkmptx\n",
            "WmCKAzTq\n",
            "YFB1So\n",
            "ys9BZG\n",
            "0mws1rRV\n",
            "tDIBqHT\n",
            "T3272Pt\n",
            "2dYjzqM\n",
            "WgTE8pF\n",
            "1R6EVW\n",
            "sgeg9s\n",
            "HIXehHL\n",
            "2ek2iv\n",
            "HOGnq1\n",
            "6J1Jro\n",
            "nlRf7WaI\n",
            "5oaAqVUs\n",
            "WpPpUkz\n",
            "gxckIn\n",
            "tNclun\n",
            "HQSloV\n",
            "9djglf\n",
            "HqUvq6T\n",
            "0R9khRj5\n",
            "PesEWJ2\n",
            "yJS5T7VN\n",
            "F7zZOB\n",
            "J5zT16\n",
            "PpECNgP4\n",
            "s5fOma\n",
            "4B8LWzQ\n",
            "r1qEl6M0\n",
            "EcJZeYAt\n",
            "Y2fIrQ\n",
            "mpEEDT\n",
            "Ub7jfQZ\n",
            "WZbBJA\n",
            "0ZIseUJ\n",
            "53mYkG\n",
            "XoMCsT\n",
            "qiqEhO\n",
            "oA6ufCp\n",
            "LYpV1lUp\n",
            "oWRXFJ7\n",
            "Zw6tQI\n",
            "YC9Z5j\n",
            "asnh7R2V\n",
            "4jSBR45\n",
            "OcwTqjcP\n",
            "68w2EAsl\n",
            "aEK3h1\n",
            "rfgzkJ0\n",
            "yi4CKME7\n",
            "l6BvDIs\n",
            "vHZWNT4y\n",
            "nGpFgWGY\n",
            "DWOrandA\n",
            "EvqdXXP\n",
            "qRYCn2h\n",
            "5rw4Jai\n",
            "7PdkkSfb\n",
            "DV45mc0\n",
            "bAvlikpo\n",
            "H7oVFm\n",
            "PwWxrfXv\n",
            "pkhTU8w\n",
            "hjkgHzLv\n",
            "R9NP7kDs\n",
            "kORmQbzg\n"
          ]
        }
      ]
    },
    {
      "cell_type": "markdown",
      "source": [
        "## **(ii) WAP to print all prime numbers between 600 and 800**"
      ],
      "metadata": {
        "id": "gKiGBm4UboBo"
      }
    },
    {
      "cell_type": "code",
      "source": [
        "def is_prime(n):\n",
        "    if n < 2:\n",
        "        return False\n",
        "    for i in range(2, int(n**0.5)+1):\n",
        "        if n % i == 0:\n",
        "            return False\n",
        "    return True\n",
        "\n",
        "for num in range(600, 801):\n",
        "    if is_prime(num):\n",
        "        print(num, end=' ')\n"
      ],
      "metadata": {
        "colab": {
          "base_uri": "https://localhost:8080/"
        },
        "id": "-r6Lz0Tbbtvz",
        "outputId": "788f74ee-4b6f-4430-d51d-88621f6dfc41"
      },
      "execution_count": null,
      "outputs": [
        {
          "output_type": "stream",
          "name": "stdout",
          "text": [
            "601 607 613 617 619 631 641 643 647 653 659 661 673 677 683 691 701 709 719 727 733 739 743 751 757 761 769 773 787 797 "
          ]
        }
      ]
    },
    {
      "cell_type": "markdown",
      "source": [
        "## **(iii) WAP to print all numbers between 100 and 1000 that are divisible by 7 and 9**"
      ],
      "metadata": {
        "id": "VOAu1WtEcFVu"
      }
    },
    {
      "cell_type": "code",
      "source": [
        "for num in range(100, 1000):\n",
        "    if num % 7 == 0 and num % 9 == 0:\n",
        "        print(num, end=' ')\n"
      ],
      "metadata": {
        "colab": {
          "base_uri": "https://localhost:8080/"
        },
        "id": "fwpQ56_AcOAW",
        "outputId": "5dd17b48-3b06-46e4-d38e-55fa9ca0ee7f"
      },
      "execution_count": null,
      "outputs": [
        {
          "output_type": "stream",
          "name": "stdout",
          "text": [
            "126 189 252 315 378 441 504 567 630 693 756 819 882 945 "
          ]
        }
      ]
    },
    {
      "cell_type": "markdown",
      "source": [
        "# **Q5. WAP to create two lists of 10 random numbers between 10 and 30; Find**"
      ],
      "metadata": {
        "id": "U0y1ZCWgcdwB"
      }
    },
    {
      "cell_type": "markdown",
      "source": [
        "## **create two random lists**"
      ],
      "metadata": {
        "id": "rGcneTBId-tK"
      }
    },
    {
      "cell_type": "code",
      "source": [
        "import random\n",
        "\n",
        "list1 = random.sample(range(10, 30), 10)\n",
        "list2 = random.sample(range(10, 30), 10)\n",
        "\n",
        "print(\"List 1:\", list1)\n",
        "print(\"List 2:\", list2)\n"
      ],
      "metadata": {
        "colab": {
          "base_uri": "https://localhost:8080/"
        },
        "id": "P6Vx_A1VeZLa",
        "outputId": "141383f3-e925-4eb6-800a-6b24e0f96ff9"
      },
      "execution_count": null,
      "outputs": [
        {
          "output_type": "stream",
          "name": "stdout",
          "text": [
            "List 1: [13, 28, 18, 17, 11, 20, 29, 27, 19, 12]\n",
            "List 2: [14, 13, 16, 28, 22, 17, 19, 18, 12, 15]\n"
          ]
        }
      ]
    },
    {
      "cell_type": "markdown",
      "source": [],
      "metadata": {
        "id": "OOyEBDfcdM__"
      }
    },
    {
      "cell_type": "markdown",
      "source": [
        "## **(i) Common numbers in the two lists**\n",
        "\n"
      ],
      "metadata": {
        "id": "kBGU3jW3eqp7"
      }
    },
    {
      "cell_type": "code",
      "source": [
        "common = list(set(list1) & set(list2))\n",
        "print(\"(i) Common numbers:\", common)\n"
      ],
      "metadata": {
        "colab": {
          "base_uri": "https://localhost:8080/"
        },
        "id": "vPOIhIoeeykI",
        "outputId": "383d5008-9f38-44bc-9179-6c4aed32a0a9"
      },
      "execution_count": null,
      "outputs": [
        {
          "output_type": "stream",
          "name": "stdout",
          "text": [
            "(i) Common numbers: [12, 13, 17, 18, 19, 28]\n"
          ]
        }
      ]
    },
    {
      "cell_type": "markdown",
      "source": [
        "## **(ii) Unique numbers in both the lists**"
      ],
      "metadata": {
        "id": "iLEHcDbdfOF3"
      }
    },
    {
      "cell_type": "code",
      "source": [
        "unique = list(set(list1) ^ set(list2))\n",
        "print(\"(ii) Unique numbers:\", unique)\n"
      ],
      "metadata": {
        "id": "gCcg47rrfR6K"
      },
      "execution_count": null,
      "outputs": []
    },
    {
      "cell_type": "markdown",
      "source": [
        "## **(iii) Minimum in both the lists**"
      ],
      "metadata": {
        "id": "nRv1thSafUsz"
      }
    },
    {
      "cell_type": "code",
      "source": [
        "print(\"(iii) Minimum in list1:\", min(list1))\n",
        "print(\"(iii) Minimum in list2:\", min(list2))\n"
      ],
      "metadata": {
        "id": "EaiyFhhefbj2"
      },
      "execution_count": null,
      "outputs": []
    },
    {
      "cell_type": "markdown",
      "source": [
        "## **(iv) Maximum in both the lists**\n"
      ],
      "metadata": {
        "id": "8on9d3EKfgLs"
      }
    },
    {
      "cell_type": "code",
      "source": [
        "print(\"(iv) Maximum in list1:\", max(list1))\n",
        "print(\"(iv) Maximum in list2:\", max(list2))\n"
      ],
      "metadata": {
        "id": "4tjPgQi_fqRi"
      },
      "execution_count": null,
      "outputs": []
    },
    {
      "cell_type": "markdown",
      "source": [
        "## **(v) Sum of both the lists**"
      ],
      "metadata": {
        "id": "LBKQRmzrf7KB"
      }
    },
    {
      "cell_type": "code",
      "source": [
        "print(\"(v) Sum of list1:\", sum(list1))\n",
        "print(\"(v) Sum of list2:\", sum(list2))\n"
      ],
      "metadata": {
        "id": "NzQ3pDtDgHMB"
      },
      "execution_count": null,
      "outputs": []
    },
    {
      "cell_type": "markdown",
      "source": [
        "# **Q6. WAP to create a list of 100 random numbers between 100 and 900. Count and print:**"
      ],
      "metadata": {
        "id": "AI6xhRPQgOGA"
      }
    },
    {
      "cell_type": "markdown",
      "source": [
        "## **Create the list of 100 random numbers**"
      ],
      "metadata": {
        "id": "LtkX19IBgltW"
      }
    },
    {
      "cell_type": "code",
      "source": [
        "import random\n",
        "\n",
        "# Generate 100 random numbers between 100 and 900\n",
        "numbers = [random.randint(100, 900) for _ in range(100)]\n",
        "print(\"Random Numbers:\\n\", numbers)\n"
      ],
      "metadata": {
        "colab": {
          "base_uri": "https://localhost:8080/"
        },
        "id": "HyG2hfAshISO",
        "outputId": "0faced02-018a-4a1b-e43d-bb053e027c81"
      },
      "execution_count": null,
      "outputs": [
        {
          "output_type": "stream",
          "name": "stdout",
          "text": [
            "Random Numbers:\n",
            " [770, 218, 611, 348, 323, 765, 126, 629, 413, 665, 564, 358, 118, 826, 803, 795, 448, 745, 790, 363, 450, 322, 211, 447, 344, 787, 310, 502, 375, 515, 359, 555, 159, 108, 578, 477, 347, 685, 287, 636, 524, 487, 344, 328, 651, 613, 639, 842, 761, 725, 694, 590, 882, 180, 571, 386, 160, 159, 741, 629, 292, 502, 585, 795, 720, 305, 233, 459, 408, 209, 447, 813, 833, 135, 685, 686, 734, 700, 621, 379, 454, 162, 330, 714, 321, 662, 703, 454, 800, 530, 206, 884, 653, 114, 228, 126, 869, 598, 877, 862]\n"
          ]
        }
      ]
    },
    {
      "cell_type": "markdown",
      "source": [
        "## **(i) All odd numbers**"
      ],
      "metadata": {
        "id": "gYve9U6XhZxd"
      }
    },
    {
      "cell_type": "code",
      "source": [
        "import random\n",
        "\n",
        "numbers = [random.randint(100, 900) for _ in range(100)]\n",
        "odd_numbers = [n for n in numbers if n % 2 != 0]\n",
        "print(\"Odd Numbers:\", odd_numbers)\n",
        "print(\"Count of Odd Numbers:\", len(odd_numbers))\n"
      ],
      "metadata": {
        "colab": {
          "base_uri": "https://localhost:8080/"
        },
        "id": "a9hkQVwOhtzi",
        "outputId": "24dbdfe8-f4e2-4a2d-8689-02441206eb14"
      },
      "execution_count": null,
      "outputs": [
        {
          "output_type": "stream",
          "name": "stdout",
          "text": [
            "Odd Numbers: [517, 507, 443, 781, 381, 145, 457, 835, 631, 527, 117, 549, 195, 609, 881, 383, 589, 285, 571, 717, 345, 105, 195, 395, 745, 161, 235, 667, 315, 131, 637, 513, 805, 317, 519, 359, 729, 347, 525, 707, 811, 539, 847, 259, 807, 547, 409, 261, 153, 321, 295, 569, 313, 361, 533, 713]\n",
            "Count of Odd Numbers: 56\n"
          ]
        }
      ]
    },
    {
      "cell_type": "markdown",
      "source": [
        "## **(ii) All even numbers**"
      ],
      "metadata": {
        "id": "b81EcMJGhyRN"
      }
    },
    {
      "cell_type": "code",
      "source": [
        "even_numbers = [n for n in numbers if n % 2 == 0]\n",
        "print(\"Even Numbers:\", even_numbers)\n",
        "print(\"Count of Even Numbers:\", len(even_numbers))\n"
      ],
      "metadata": {
        "id": "cpGq8EQKh8XR"
      },
      "execution_count": null,
      "outputs": []
    },
    {
      "cell_type": "markdown",
      "source": [
        "## **(iii) All prime numbers**"
      ],
      "metadata": {
        "id": "oOegPQ6ih_Gk"
      }
    },
    {
      "cell_type": "code",
      "source": [
        "def is_prime(n):\n",
        "    if n < 2:\n",
        "        return False\n",
        "    for i in range(2, int(n**0.5)+1):\n",
        "        if n % i == 0:\n",
        "            return False\n",
        "    return True\n",
        "\n",
        "prime_numbers = [n for n in numbers if is_prime(n)]\n",
        "print(\"Prime Numbers:\", prime_numbers)\n",
        "print(\"Count of Prime Numbers:\", len(prime_numbers))\n"
      ],
      "metadata": {
        "id": "XrLFAsediGgS"
      },
      "execution_count": null,
      "outputs": []
    },
    {
      "cell_type": "markdown",
      "source": [
        "# **Q7. D is a dictionary defined as D={1:\"One\",2:\"Two\",3:\"Three\",4:\"Four\", 5:\"Five\"}.**"
      ],
      "metadata": {
        "id": "c5MAuK_q7sN5"
      }
    },
    {
      "cell_type": "markdown",
      "source": [
        "##  **7.1 WAP to read all the keys and values from dictionary and write to the file in the given below format.**\n",
        "\n",
        "**Key1, Value1**\n",
        "---\n",
        "**Key2, Value2**\n",
        "---\n",
        "**Key3, Value3**\n",
        " --"
      ],
      "metadata": {
        "id": "WMeuN8Cn8InI"
      }
    },
    {
      "cell_type": "code",
      "source": [
        "D={1:\"One\",2:\"Two\",3:\"Three\",4:\"Four\", 5:\"Five\"}\n",
        "for key, value in D.items():\n",
        "    print(f\"{key}, {value}\"),D"
      ],
      "metadata": {
        "colab": {
          "base_uri": "https://localhost:8080/"
        },
        "id": "yXQ_Rw-q9PhX",
        "outputId": "f367ff88-20a2-4c64-df11-fc4066b9597a"
      },
      "execution_count": 8,
      "outputs": [
        {
          "output_type": "stream",
          "name": "stdout",
          "text": [
            "1, One\n",
            "2, Two\n",
            "3, Three\n",
            "4, Four\n",
            "5, Five\n"
          ]
        }
      ]
    },
    {
      "cell_type": "markdown",
      "source": [
        "# **Q8. L is a list defined as L=[\"One\",\"Two\",\"Three\",\"Four\",\"Five\"].**"
      ],
      "metadata": {
        "id": "x-6zKoeF9oD_"
      }
    },
    {
      "cell_type": "markdown",
      "source": [
        "## **8.1 WAP to count the length of reach element from a list and write to the file in the given below format:**\n",
        "\n",
        "**one, 3**\n",
        "---\n",
        "**two, 3**\n",
        "----\n",
        "**four, 4**\n",
        "---\n"
      ],
      "metadata": {
        "id": "MsUSoVxD9_IE"
      }
    },
    {
      "cell_type": "code",
      "source": [
        "L = [\"One\", \"Two\", \"Three\", \"Four\", \"Five\"]\n",
        "\n",
        "with open(\"output.txt\", \"w\") as f:\n",
        "    for word in L:\n",
        "        f.write(f\"{word}, {len(word)}\\n\")\n",
        "\n",
        "print(\"Written to output.txt\")\n"
      ],
      "metadata": {
        "colab": {
          "base_uri": "https://localhost:8080/"
        },
        "id": "wedN-paA98mx",
        "outputId": "fd5bbb40-668a-4808-dfe7-ffa982e32fbc"
      },
      "execution_count": 6,
      "outputs": [
        {
          "output_type": "stream",
          "name": "stdout",
          "text": [
            "Written to output.txt\n"
          ]
        }
      ]
    },
    {
      "cell_type": "markdown",
      "source": [
        "## **Q9. Write to the file 100 random strings whose length between 10 and 15.**"
      ],
      "metadata": {
        "id": "ffP_nLvk-5JG"
      }
    },
    {
      "cell_type": "code",
      "source": [
        "import random as r\n",
        "import string as s\n",
        "\n",
        "words=[]\n",
        "\n",
        "for i in range(100):\n",
        "    length = r.randint(10, 15)\n",
        "    rand_str = ''.join(r.choices(s.ascii_letters, k=length)) #r.choices allows the repetition of letters\n",
        "    words.append(rand_str)\n",
        "\n",
        "# Write to a file in Colab\n",
        "with open(\"question9.txt\", \"w\") as f:\n",
        "    for s in words:\n",
        "        f.write(s + \"\\n\")\n",
        "\n",
        "print(\"100 random strings are written to 'question9.txt' file\")"
      ],
      "metadata": {
        "colab": {
          "base_uri": "https://localhost:8080/"
        },
        "id": "XoCoEUcp--sa",
        "outputId": "1b5e1f0f-cefa-44e7-b8d9-135d028d09ec"
      },
      "execution_count": 3,
      "outputs": [
        {
          "output_type": "stream",
          "name": "stdout",
          "text": [
            "100 random strings are written to 'question9.txt' file\n"
          ]
        }
      ]
    },
    {
      "cell_type": "markdown",
      "source": [
        "## **Q10. Write to the file all prime numbers between 600 and 800.**"
      ],
      "metadata": {
        "id": "5R4_npqe_J9w"
      }
    },
    {
      "cell_type": "code",
      "source": [
        "import random as r\n",
        "import string as s\n",
        "\n",
        "def prime(n):\n",
        "  if n < 2:\n",
        "        return False\n",
        "  for i in range(2,(n//2)+1):\n",
        "    if n%i == 0:\n",
        "      return False\n",
        "  return True\n",
        "\n",
        "num=[]\n",
        "for i in range(600,801):\n",
        "  if prime(i)==True:\n",
        "    num.append(i)\n",
        "\n",
        "with open(\"question10.txt\",'w') as f:\n",
        "  for s in num:\n",
        "    f.write(str(s)+\"\\n\")\n",
        "\n",
        "print(\"Prime numbers added to file.\")"
      ],
      "metadata": {
        "id": "R7rumLjx_L0R",
        "colab": {
          "base_uri": "https://localhost:8080/"
        },
        "outputId": "cc903827-9443-4cb7-adf5-198807b3f977"
      },
      "execution_count": 4,
      "outputs": [
        {
          "output_type": "stream",
          "name": "stdout",
          "text": [
            "Prime numbers added to file.\n"
          ]
        }
      ]
    },
    {
      "cell_type": "markdown",
      "source": [
        "## **Q11. WAP to calculate the time taken by a program.**"
      ],
      "metadata": {
        "id": "Zwk-SidC_UKF"
      }
    },
    {
      "cell_type": "code",
      "source": [
        "import time as t\n",
        "\n",
        "start = t.time()\n",
        "# Sample work\n",
        "sum([i*i for i in range(1000000)])\n",
        "end = t.time()\n",
        "\n",
        "print(\"Time taken:\", end - start, \"seconds\")"
      ],
      "metadata": {
        "id": "v1mSlmDQ_Yv3"
      },
      "execution_count": null,
      "outputs": []
    },
    {
      "cell_type": "markdown",
      "source": [
        "## **Q12. WAP to sort following number of elements in a list, calculate time taken and plot the graph.**\n",
        "\n",
        "![Screenshot 2025-06-16 200245.png](data:image/png;base64,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)"
      ],
      "metadata": {
        "id": "SnbaC4LM_b26"
      }
    },
    {
      "cell_type": "code",
      "source": [
        "import time as t\n",
        "import matplotlib.pyplot as plt\n",
        "import random as r\n",
        "\n",
        "times=[]\n",
        "sizes=[5000,10000,15000,20000,25000]\n",
        "\n",
        "for s in sizes:\n",
        "  arr = [r.randint(0,10000) for i in range(s)]\n",
        "  start = t.time()\n",
        "  arr.sort\n",
        "  end = t.time()\n",
        "  times.append(end-start)\n",
        "\n",
        "plt.plot(sizes,times,marker='o')\n",
        "plt.xlabel(\"Number of elements\")\n",
        "plt.ylabel(\"Time taken (s)\")\n",
        "plt.title(\"Sorting Time Analysis.\")\n",
        "plt.grid(True)\n",
        "plt.show()\n",
        "\n"
      ],
      "metadata": {
        "id": "s-p0v61GBwh1"
      },
      "execution_count": null,
      "outputs": []
    },
    {
      "cell_type": "markdown",
      "source": [
        "## **Q13. WAP to create a dictionary of student marks in five subjects and you have to find the student having maximum and minimum average marks.**"
      ],
      "metadata": {
        "id": "_AzW3uYMBB-P"
      }
    },
    {
      "cell_type": "code",
      "source": [
        "D = {\n",
        "    \"A\" : [67,78,45,60,78],\n",
        "    \"B\" : [56,99,78,33,70],\n",
        "    \"C\" : [45,100,24,67,85]\n",
        "}\n",
        "print(D)\n",
        "\n",
        "averages={}\n",
        "for name,marks in D.items():\n",
        "  avg = sum(marks)/len(marks)\n",
        "  averages[name]=avg\n",
        "\n",
        "print(averages)\n",
        "\n",
        "max_student = max(averages, key=averages.get)\n",
        "min_student = min(averages, key=averages.get)\n",
        "print(\"Max Average Marks:\",max_student,\"(\",averages[max_student],\")\")\n",
        "print(\"Min Average Marks:\",min_student,\"(\",averages[min_student],\")\")"
      ],
      "metadata": {
        "id": "KXhP-AujBDIh"
      },
      "execution_count": null,
      "outputs": []
    },
    {
      "cell_type": "markdown",
      "source": [],
      "metadata": {
        "id": "6QzSPHGdBHyY"
      }
    },
    {
      "cell_type": "markdown",
      "source": [],
      "metadata": {
        "id": "_iU6yIBF_8tv"
      }
    },
    {
      "cell_type": "markdown",
      "source": [],
      "metadata": {
        "id": "b6kOiovY9Vts"
      }
    },
    {
      "cell_type": "markdown",
      "source": [],
      "metadata": {
        "id": "Q3UZUGVCiKP4"
      }
    }
  ]
}